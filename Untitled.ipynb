{
 "cells": [
  {
   "cell_type": "code",
   "execution_count": 1,
   "id": "6b2e6589",
   "metadata": {},
   "outputs": [],
   "source": [
    "import pandas as pd\n",
    "import requests"
   ]
  },
  {
   "cell_type": "code",
   "execution_count": 5,
   "id": "fdf5548c",
   "metadata": {},
   "outputs": [],
   "source": [
    "response = requests.get('http://api.weatherapi.com/v1/current.json?key=0f97f9f0850b49c582c31013241607&q=India&aqi=no')"
   ]
  },
  {
   "cell_type": "code",
   "execution_count": 8,
   "id": "c02ec5f5",
   "metadata": {},
   "outputs": [
    {
     "data": {
      "text/plain": [
       "{'name': 'New Delhi',\n",
       " 'region': 'Delhi',\n",
       " 'country': 'India',\n",
       " 'lat': 28.6,\n",
       " 'lon': 77.2,\n",
       " 'tz_id': 'Asia/Kolkata',\n",
       " 'localtime_epoch': 1721099777,\n",
       " 'localtime': '2024-07-16 8:46'}"
      ]
     },
     "execution_count": 8,
     "metadata": {},
     "output_type": "execute_result"
    }
   ],
   "source": [
    "response.json()['location']"
   ]
  },
  {
   "cell_type": "code",
   "execution_count": 20,
   "id": "8c283ba2",
   "metadata": {},
   "outputs": [
    {
     "name": "stdout",
     "output_type": "stream",
     "text": [
      "Status: OK\n",
      "Response Headers: {'Date': 'Tue, 16 Jul 2024 03:41:30 GMT', 'Content-Type': 'application/json', 'Content-Length': '16', 'Connection': 'keep-alive', 'Apigw-Requestid': 'a_HMujcDPHcEPsA=', 'X-RateLimit-Requests-Limit': '200', 'X-RateLimit-Requests-Remaining': '197', 'X-RateLimit-Requests-Reset': '2677798', 'X-RateLimit-rapid-free-plans-hard-limit-Limit': '500000', 'X-RateLimit-rapid-free-plans-hard-limit-Remaining': '499997', 'X-RateLimit-rapid-free-plans-hard-limit-Reset': '2677798', 'Server': 'RapidAPI-1.2.8', 'X-RapidAPI-Version': '1.2.8', 'X-RapidAPI-Region': 'AWS - ap-southeast-1'}\n",
      "Response Content: {\"status\": \"ok\"}\n",
      "JSON Data: {'status': 'ok'}\n"
     ]
    }
   ],
   "source": [
    "import requests\n",
    "\n",
    "url = \"https://zillow-working-api.p.rapidapi.com/myping\"\n",
    "\n",
    "querystring = {\"check\": \"Yes\"}\n",
    "\n",
    "headers = {\n",
    "    \"x-rapidapi-key\": \"08caa9894bmsh736012bc1029411p1f0a66jsn80491cff2bbd\",\n",
    "    \"x-rapidapi-host\": \"zillow-working-api.p.rapidapi.com\"\n",
    "}\n",
    "\n",
    "response = requests.get(url, headers=headers, params=querystring)\n",
    "\n",
    "# Check if the response status code is 200 (OK)\n",
    "if response.status_code == 200:\n",
    "    print(\"Status: OK\")\n",
    "    print(\"Response Headers:\", response.headers)\n",
    "    print(\"Response Content:\", response.text)\n",
    "    try:\n",
    "        # Try to parse the response as JSON\n",
    "        data = response.json()\n",
    "        print(\"JSON Data:\", data)\n",
    "    except ValueError:\n",
    "        # If parsing fails, print the raw response text\n",
    "        print(\"Response content is not in JSON format\")\n",
    "else:\n",
    "    print(f\"Error: {response.status_code}\")\n"
   ]
  },
  {
   "cell_type": "code",
   "execution_count": null,
   "id": "c99cec7a",
   "metadata": {},
   "outputs": [],
   "source": []
  }
 ],
 "metadata": {
  "kernelspec": {
   "display_name": "Python 3 (ipykernel)",
   "language": "python",
   "name": "python3"
  },
  "language_info": {
   "codemirror_mode": {
    "name": "ipython",
    "version": 3
   },
   "file_extension": ".py",
   "mimetype": "text/x-python",
   "name": "python",
   "nbconvert_exporter": "python",
   "pygments_lexer": "ipython3",
   "version": "3.10.11"
  }
 },
 "nbformat": 4,
 "nbformat_minor": 5
}
